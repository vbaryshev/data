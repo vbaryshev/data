{
 "cells": [
  {
   "cell_type": "code",
   "execution_count": null,
   "id": "482403a7-457f-422c-922e-6ac25cd11b77",
   "metadata": {},
   "outputs": [],
   "source": [
    "a"
   ]
  },
  {
   "cell_type": "code",
   "execution_count": null,
   "id": "e20f0b9f-911f-4cf6-87ad-4b4c5c449cf5",
   "metadata": {},
   "outputs": [],
   "source": [
    "ro"
   ]
  }
 ],
 "metadata": {
  "kernelspec": {
   "display_name": "Python 3 (ipykernel)",
   "language": "python",
   "name": "python3"
  },
  "language_info": {
   "codemirror_mode": {
    "name": "ipython",
    "version": 3
   },
   "file_extension": ".py",
   "mimetype": "text/x-python",
   "name": "python",
   "nbconvert_exporter": "python",
   "pygments_lexer": "ipython3",
   "version": "3.10.6"
  }
 },
 "nbformat": 4,
 "nbformat_minor": 5
}
